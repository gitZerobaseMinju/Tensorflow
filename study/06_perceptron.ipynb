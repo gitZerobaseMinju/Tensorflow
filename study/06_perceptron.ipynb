{
 "cells": [
  {
   "cell_type": "code",
   "execution_count": 1,
   "id": "f12a0a08",
   "metadata": {},
   "outputs": [],
   "source": [
    "import tensorflow as tf\n",
    "import numpy as np"
   ]
  },
  {
   "cell_type": "code",
   "execution_count": 3,
   "id": "a74f5941",
   "metadata": {},
   "outputs": [
    {
     "name": "stdout",
     "output_type": "stream",
     "text": [
      ".. _iris_dataset:\n",
      "\n",
      "Iris plants dataset\n",
      "--------------------\n",
      "\n",
      "**Data Set Characteristics:**\n",
      "\n",
      "    :Number of Instances: 150 (50 in each of three classes)\n",
      "    :Number of Attributes: 4 numeric, predictive attributes and the class\n",
      "    :Attribute Information:\n",
      "        - sepal length in cm\n",
      "        - sepal width in cm\n",
      "        - petal length in cm\n",
      "        - petal width in cm\n",
      "        - class:\n",
      "                - Iris-Setosa\n",
      "                - Iris-Versicolour\n",
      "                - Iris-Virginica\n",
      "                \n",
      "    :Summary Statistics:\n",
      "\n",
      "    ============== ==== ==== ======= ===== ====================\n",
      "                    Min  Max   Mean    SD   Class Correlation\n",
      "    ============== ==== ==== ======= ===== ====================\n",
      "    sepal length:   4.3  7.9   5.84   0.83    0.7826\n",
      "    sepal width:    2.0  4.4   3.05   0.43   -0.4194\n",
      "    petal length:   1.0  6.9   3.76   1.76    0.9490  (high!)\n",
      "    petal width:    0.1  2.5   1.20   0.76    0.9565  (high!)\n",
      "    ============== ==== ==== ======= ===== ====================\n",
      "\n",
      "    :Missing Attribute Values: None\n",
      "    :Class Distribution: 33.3% for each of 3 classes.\n",
      "    :Creator: R.A. Fisher\n",
      "    :Donor: Michael Marshall (MARSHALL%PLU@io.arc.nasa.gov)\n",
      "    :Date: July, 1988\n",
      "\n",
      "The famous Iris database, first used by Sir R.A. Fisher. The dataset is taken\n",
      "from Fisher's paper. Note that it's the same as in R, but not as in the UCI\n",
      "Machine Learning Repository, which has two wrong data points.\n",
      "\n",
      "This is perhaps the best known database to be found in the\n",
      "pattern recognition literature.  Fisher's paper is a classic in the field and\n",
      "is referenced frequently to this day.  (See Duda & Hart, for example.)  The\n",
      "data set contains 3 classes of 50 instances each, where each class refers to a\n",
      "type of iris plant.  One class is linearly separable from the other 2; the\n",
      "latter are NOT linearly separable from each other.\n",
      "\n",
      ".. topic:: References\n",
      "\n",
      "   - Fisher, R.A. \"The use of multiple measurements in taxonomic problems\"\n",
      "     Annual Eugenics, 7, Part II, 179-188 (1936); also in \"Contributions to\n",
      "     Mathematical Statistics\" (John Wiley, NY, 1950).\n",
      "   - Duda, R.O., & Hart, P.E. (1973) Pattern Classification and Scene Analysis.\n",
      "     (Q327.D83) John Wiley & Sons.  ISBN 0-471-22361-1.  See page 218.\n",
      "   - Dasarathy, B.V. (1980) \"Nosing Around the Neighborhood: A New System\n",
      "     Structure and Classification Rule for Recognition in Partially Exposed\n",
      "     Environments\".  IEEE Transactions on Pattern Analysis and Machine\n",
      "     Intelligence, Vol. PAMI-2, No. 1, 67-71.\n",
      "   - Gates, G.W. (1972) \"The Reduced Nearest Neighbor Rule\".  IEEE Transactions\n",
      "     on Information Theory, May 1972, 431-433.\n",
      "   - See also: 1988 MLC Proceedings, 54-64.  Cheeseman et al\"s AUTOCLASS II\n",
      "     conceptual clustering system finds 3 classes in the data.\n",
      "   - Many, many more ...\n"
     ]
    }
   ],
   "source": [
    "from sklearn.datasets import load_iris\n",
    "iris = load_iris()\n",
    "print(iris.DESCR)"
   ]
  },
  {
   "cell_type": "code",
   "execution_count": 5,
   "id": "0f185e44",
   "metadata": {},
   "outputs": [],
   "source": [
    "idx = np.in1d(iris.target, [0,2])\n",
    "X_data = iris.data[idx, 0:2]\n",
    "y_data = (iris.target[idx] - 1.0)[:, np.newaxis]"
   ]
  },
  {
   "cell_type": "code",
   "execution_count": 6,
   "id": "52b9d8cb",
   "metadata": {},
   "outputs": [
    {
     "data": {
      "text/plain": [
       "((100, 2), (100, 1))"
      ]
     },
     "execution_count": 6,
     "metadata": {},
     "output_type": "execute_result"
    }
   ],
   "source": [
    "X_data.shape, y_data.shape"
   ]
  },
  {
   "cell_type": "code",
   "execution_count": 7,
   "id": "9de65760",
   "metadata": {},
   "outputs": [],
   "source": [
    "num_iter = 500\n",
    "lr = 0.0003"
   ]
  },
  {
   "cell_type": "code",
   "execution_count": 9,
   "id": "427d0c73",
   "metadata": {},
   "outputs": [],
   "source": [
    "w = tf.Variable(tf.random.normal([2,1], dtype = tf.float64))\n",
    "b = tf.Variable(tf.random.normal([1,1], dtype = tf.float64))"
   ]
  },
  {
   "cell_type": "code",
   "execution_count": 13,
   "id": "ec51f3a7",
   "metadata": {},
   "outputs": [],
   "source": [
    "zero = tf.constant(0, dtype=tf.float64)\n",
    "for epoch in range(num_iter):\n",
    "    for i in range(X_data.shape[0]):\n",
    "        x = X_data[i:i+1]\n",
    "        y = y_data[i:i+1]\n",
    "        \n",
    "        with tf.GradientTape() as tape:\n",
    "            logit = tf.matmul(x, w) + b\n",
    "            y_hat = tf.tanh(logit)\n",
    "            loss = tf.maximum(zero, tf.multiply(-y, y_hat))\n",
    "        \n",
    "        grad = tape.gradient(loss, [w, b])\n",
    "        \n",
    "        w.assign_sub(lr * grad[0])\n",
    "        b.assign_sub(lr * grad[1])"
   ]
  },
  {
   "cell_type": "code",
   "execution_count": 14,
   "id": "75778e0a",
   "metadata": {},
   "outputs": [],
   "source": [
    "y_pred = tf.tanh(tf.matmul(X_data, w) +b)"
   ]
  },
  {
   "cell_type": "code",
   "execution_count": 15,
   "id": "195f9c8c",
   "metadata": {},
   "outputs": [
    {
     "name": "stdout",
     "output_type": "stream",
     "text": [
      "예측치 :  tf.Tensor([-0.99999933], shape=(1,), dtype=float64) 정답 :  [-1.]\n"
     ]
    }
   ],
   "source": [
    "print(\"예측치 : \", y_pred[0], \"정답 : \", y_data[0])"
   ]
  },
  {
   "cell_type": "code",
   "execution_count": 18,
   "id": "dc2c666d",
   "metadata": {},
   "outputs": [
    {
     "name": "stdout",
     "output_type": "stream",
     "text": [
      "예측치 :  -1 정답 :  [-1.]\n"
     ]
    }
   ],
   "source": [
    "print(\"예측치 : \", -1 if y_pred[0] < 0 else 1,  \"정답 : \", y_data[0])"
   ]
  },
  {
   "cell_type": "code",
   "execution_count": null,
   "id": "18068e52",
   "metadata": {},
   "outputs": [],
   "source": []
  }
 ],
 "metadata": {
  "kernelspec": {
   "display_name": "python 3.8.15('ds_study':conda)",
   "language": "python",
   "name": "ds_study"
  },
  "language_info": {
   "codemirror_mode": {
    "name": "ipython",
    "version": 3
   },
   "file_extension": ".py",
   "mimetype": "text/x-python",
   "name": "python",
   "nbconvert_exporter": "python",
   "pygments_lexer": "ipython3",
   "version": "3.8.15"
  }
 },
 "nbformat": 4,
 "nbformat_minor": 5
}
