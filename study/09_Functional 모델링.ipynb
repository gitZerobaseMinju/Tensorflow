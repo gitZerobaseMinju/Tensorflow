{
 "cells": [
  {
   "cell_type": "markdown",
   "id": "a1c7e82a",
   "metadata": {},
   "source": [
    "# Functional 모델링"
   ]
  },
  {
   "cell_type": "code",
   "execution_count": 1,
   "id": "c0131ca1",
   "metadata": {},
   "outputs": [],
   "source": [
    "import numpy as np\n",
    "import pandas as pd\n",
    "import tensorflow as tf\n",
    "\n",
    "import matplotlib.pyplot as plt\n",
    "import seaborn as sns\n",
    "%matplotlib inline"
   ]
  },
  {
   "cell_type": "code",
   "execution_count": 2,
   "id": "60903f55",
   "metadata": {},
   "outputs": [],
   "source": [
    "np.random.seed(7777)\n",
    "tf.random.set_seed(7777)"
   ]
  },
  {
   "cell_type": "markdown",
   "id": "b9a7a536",
   "metadata": {},
   "source": [
    "## Functional API\n",
    "- tf.keras.Sequential 보다 더 유연하게 모델을 정의 할 수 있는 방법"
   ]
  },
  {
   "cell_type": "code",
   "execution_count": 8,
   "id": "223dc2ab",
   "metadata": {},
   "outputs": [],
   "source": [
    "from tensorflow.keras.layers import Input, Conv2D, MaxPool2D, Flatten, Dense"
   ]
  },
  {
   "cell_type": "code",
   "execution_count": 9,
   "id": "db9808ac",
   "metadata": {},
   "outputs": [],
   "source": [
    "input_shape = (28, 28,1)"
   ]
  },
  {
   "cell_type": "code",
   "execution_count": 11,
   "id": "938d993a",
   "metadata": {},
   "outputs": [],
   "source": [
    "inputs = Input(input_shape)\n",
    "\n",
    "net = Conv2D(32, kernel_size=3, padding='same', activation='relu')(inputs)\n",
    "net = Conv2D(32, kernel_size=3, padding='same', activation='relu')(net)\n",
    "net = MaxPool2D()(net)\n",
    "\n",
    "net = Conv2D(64, kernel_size=3, padding='same', activation='relu')(inputs)\n",
    "net = Conv2D(64, kernel_size=3, padding='same', activation='relu')(net)\n",
    "net = MaxPool2D()(net)\n",
    "\n",
    "net = Flatten()(net)\n",
    "net= Dense(128, activation='relu')(net)\n",
    "net= Dense(64, activation='relu')(net)\n",
    "net= Dense(32, activation='softmax')(net)"
   ]
  },
  {
   "cell_type": "code",
   "execution_count": 12,
   "id": "935ea8c3",
   "metadata": {},
   "outputs": [],
   "source": [
    "model = tf.keras.Model(inputs=inputs, outputs=net)"
   ]
  },
  {
   "cell_type": "code",
   "execution_count": 13,
   "id": "e4bd7ef6",
   "metadata": {},
   "outputs": [
    {
     "name": "stdout",
     "output_type": "stream",
     "text": [
      "Model: \"model\"\n",
      "_________________________________________________________________\n",
      " Layer (type)                Output Shape              Param #   \n",
      "=================================================================\n",
      " input_2 (InputLayer)        [(None, 28, 28, 1)]       0         \n",
      "                                                                 \n",
      " conv2d_4 (Conv2D)           (None, 28, 28, 64)        640       \n",
      "                                                                 \n",
      " conv2d_5 (Conv2D)           (None, 28, 28, 64)        36928     \n",
      "                                                                 \n",
      " max_pooling2d_1 (MaxPooling  (None, 14, 14, 64)       0         \n",
      " 2D)                                                             \n",
      "                                                                 \n",
      " flatten (Flatten)           (None, 12544)             0         \n",
      "                                                                 \n",
      " dense (Dense)               (None, 128)               1605760   \n",
      "                                                                 \n",
      " dense_1 (Dense)             (None, 64)                8256      \n",
      "                                                                 \n",
      " dense_2 (Dense)             (None, 32)                2080      \n",
      "                                                                 \n",
      "=================================================================\n",
      "Total params: 1,653,664\n",
      "Trainable params: 1,653,664\n",
      "Non-trainable params: 0\n",
      "_________________________________________________________________\n"
     ]
    }
   ],
   "source": [
    "model.summary()"
   ]
  },
  {
   "cell_type": "markdown",
   "id": "a202484f",
   "metadata": {},
   "source": []
  }
 ],
 "metadata": {
  "kernelspec": {
   "display_name": "python 3.8.15('ds_study':conda)",
   "language": "python",
   "name": "ds_study"
  },
  "language_info": {
   "codemirror_mode": {
    "name": "ipython",
    "version": 3
   },
   "file_extension": ".py",
   "mimetype": "text/x-python",
   "name": "python",
   "nbconvert_exporter": "python",
   "pygments_lexer": "ipython3",
   "version": "3.8.15"
  }
 },
 "nbformat": 4,
 "nbformat_minor": 5
}
