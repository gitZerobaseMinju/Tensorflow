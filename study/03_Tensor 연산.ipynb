{
 "cells": [
  {
   "cell_type": "markdown",
   "id": "d6145bad",
   "metadata": {},
   "source": [
    "# Tensor 연산"
   ]
  },
  {
   "cell_type": "code",
   "execution_count": 1,
   "id": "046cb836",
   "metadata": {},
   "outputs": [],
   "source": [
    "import tensorflow as tf\n",
    "import numpy as np"
   ]
  },
  {
   "cell_type": "markdown",
   "id": "3272b60f",
   "metadata": {},
   "source": [
    "아래의 기본 연산은 특수 메서드를 이용하여 연산자 오버로딩이 되어 있으므로 그냥 연산자 기호를 사용하는게 가능!\n",
    "\n",
    "- tf.add:덧셈\n",
    "- tf.subtract:뺄셈\n",
    "- tf.multiply:곱셈\n",
    "- tf.divide:나눗셈\n",
    "- tf.pow:n-제곱\n",
    "- tf.negative:음수 부호"
   ]
  },
  {
   "cell_type": "code",
   "execution_count": 2,
   "id": "13059407",
   "metadata": {},
   "outputs": [
    {
     "data": {
      "text/plain": [
       "<tf.Tensor: shape=(6,), dtype=int32, numpy=array([2, 3, 4, 5, 6, 7])>"
      ]
     },
     "execution_count": 2,
     "metadata": {},
     "output_type": "execute_result"
    }
   ],
   "source": [
    "a = tf.range(6, dtype=tf.int32)\n",
    "b = 2 * tf.ones(6, dtype=tf.int32)\n",
    "\n",
    "tf.add(a, b)"
   ]
  },
  {
   "cell_type": "code",
   "execution_count": 3,
   "id": "bdf1a093",
   "metadata": {},
   "outputs": [
    {
     "data": {
      "text/plain": [
       "<tf.Tensor: shape=(6,), dtype=int32, numpy=array([ 0,  2,  4,  6,  8, 10])>"
      ]
     },
     "execution_count": 3,
     "metadata": {},
     "output_type": "execute_result"
    }
   ],
   "source": [
    "a *b"
   ]
  },
  {
   "cell_type": "code",
   "execution_count": null,
   "id": "e9924c1f",
   "metadata": {},
   "outputs": [],
   "source": []
  },
  {
   "cell_type": "markdown",
   "id": "5ca6ef1b",
   "metadata": {},
   "source": [
    "#### 여러가지 연산\n",
    "- tf.abs:절대값\n",
    "- tf.sign:부호 \n",
    "- tf.round:반올림\n",
    "- tf.ceil:올림\n",
    "- tf.floor:내림\n",
    "- tf.square:제곱\n",
    "- tf.sqrt:제곱근\n",
    "- tf.maximum:두 텐서의 각 원소에서 최댓값만 반환\n",
    "- tf.minimum:두 텐서의 각 원소에서 최솟값만 반환\n",
    "- tf.cumsum:누적합\n",
    "- tf.cumprod:누적곱"
   ]
  },
  {
   "cell_type": "code",
   "execution_count": 4,
   "id": "7ee4adc8",
   "metadata": {},
   "outputs": [
    {
     "data": {
      "text/plain": [
       "<tf.Tensor: shape=(6,), dtype=int32, numpy=array([2, 2, 2, 3, 4, 5])>"
      ]
     },
     "execution_count": 4,
     "metadata": {},
     "output_type": "execute_result"
    }
   ],
   "source": [
    "tf.maximum(a, b)"
   ]
  },
  {
   "cell_type": "code",
   "execution_count": 5,
   "id": "10463e20",
   "metadata": {},
   "outputs": [
    {
     "data": {
      "text/plain": [
       "<tf.Tensor: shape=(6,), dtype=float32, numpy=\n",
       "array([0.        , 0.99999994, 1.4142134 , 1.7320508 , 2.        ,\n",
       "       2.236068  ], dtype=float32)>"
      ]
     },
     "execution_count": 5,
     "metadata": {},
     "output_type": "execute_result"
    }
   ],
   "source": [
    "tf.sqrt(tf.cast(a, tf.float32))"
   ]
  },
  {
   "cell_type": "markdown",
   "id": "a09330a7",
   "metadata": {},
   "source": [
    "#### Axis 이해하기"
   ]
  },
  {
   "cell_type": "code",
   "execution_count": 6,
   "id": "51425d34",
   "metadata": {},
   "outputs": [],
   "source": [
    "rank_2 = tf.random.normal((3, 3))"
   ]
  },
  {
   "cell_type": "code",
   "execution_count": 7,
   "id": "aecba6f8",
   "metadata": {},
   "outputs": [
    {
     "data": {
      "text/plain": [
       "<tf.Tensor: shape=(3, 3), dtype=float32, numpy=\n",
       "array([[ 0.29574266, -0.7126614 , -0.22266713],\n",
       "       [-0.3059238 , -0.45612356,  0.26534867],\n",
       "       [ 0.13767688,  0.16740176, -1.3329597 ]], dtype=float32)>"
      ]
     },
     "execution_count": 7,
     "metadata": {},
     "output_type": "execute_result"
    }
   ],
   "source": [
    "rank_2"
   ]
  },
  {
   "cell_type": "code",
   "execution_count": 8,
   "id": "f3672569",
   "metadata": {},
   "outputs": [
    {
     "data": {
      "text/plain": [
       "<tf.Tensor: shape=(3,), dtype=float32, numpy=array([-0.3059238 , -0.45612356,  0.26534867], dtype=float32)>"
      ]
     },
     "execution_count": 8,
     "metadata": {},
     "output_type": "execute_result"
    }
   ],
   "source": [
    "rank_2[1]"
   ]
  },
  {
   "cell_type": "code",
   "execution_count": 9,
   "id": "4a42ebb5",
   "metadata": {},
   "outputs": [
    {
     "data": {
      "text/plain": [
       "<tf.Tensor: shape=(), dtype=float32, numpy=0.26534867>"
      ]
     },
     "execution_count": 9,
     "metadata": {},
     "output_type": "execute_result"
    }
   ],
   "source": [
    "rank_2[1, 2]"
   ]
  },
  {
   "cell_type": "code",
   "execution_count": 10,
   "id": "43dc216e",
   "metadata": {},
   "outputs": [],
   "source": [
    "rank_3 = tf.random.normal((3, 3, 3))"
   ]
  },
  {
   "cell_type": "code",
   "execution_count": 11,
   "id": "13cf3b22",
   "metadata": {},
   "outputs": [
    {
     "data": {
      "text/plain": [
       "<tf.Tensor: shape=(3, 3, 3), dtype=float32, numpy=\n",
       "array([[[-0.93071723,  0.21833657,  0.64150983],\n",
       "        [-1.0415325 , -0.6437539 ,  0.2905047 ],\n",
       "        [ 1.7244744 , -0.93482834, -0.61292756]],\n",
       "\n",
       "       [[ 0.18391486,  0.19544968,  0.3439882 ],\n",
       "        [ 0.4303004 ,  0.47238088,  1.0199566 ],\n",
       "        [-1.3477253 , -0.39391845,  1.1390836 ]],\n",
       "\n",
       "       [[-2.2071261 ,  0.73052406, -0.29324847],\n",
       "        [ 0.3846113 ,  1.1826668 , -1.4700603 ],\n",
       "        [-0.505264  , -2.200393  ,  1.5337538 ]]], dtype=float32)>"
      ]
     },
     "execution_count": 11,
     "metadata": {},
     "output_type": "execute_result"
    }
   ],
   "source": [
    "rank_3"
   ]
  },
  {
   "cell_type": "code",
   "execution_count": 12,
   "id": "7188c7cb",
   "metadata": {},
   "outputs": [
    {
     "data": {
      "text/plain": [
       "<tf.Tensor: shape=(), dtype=float32, numpy=1.0199566>"
      ]
     },
     "execution_count": 12,
     "metadata": {},
     "output_type": "execute_result"
    }
   ],
   "source": [
    "rank_3[1, 1, 2]"
   ]
  },
  {
   "cell_type": "code",
   "execution_count": null,
   "id": "bc42d9b5",
   "metadata": {},
   "outputs": [],
   "source": []
  },
  {
   "cell_type": "markdown",
   "id": "835a175f",
   "metadata": {},
   "source": [
    "#### 차원 축소 연산\n",
    "- tf.reduce_mean:설정한 축의 평균을 구한다.\n",
    "- tf.reduce_max:설정한 축의 최댓값을 구한다.\n",
    "- tf.reduce_min:설정한 축의 최솟값을 구한다.\n",
    "- tf.reduce_prod:설정한 축의 요소를 모두 곱한 값을 구한다.\n",
    "- tf.reduce_sum:설정한 축의 요소를 모두 더한 값을 구한다."
   ]
  },
  {
   "cell_type": "code",
   "execution_count": 13,
   "id": "f8ffae40",
   "metadata": {},
   "outputs": [
    {
     "data": {
      "text/plain": [
       "<tf.Tensor: shape=(6,), dtype=int32, numpy=array([0, 1, 2, 3, 4, 5])>"
      ]
     },
     "execution_count": 13,
     "metadata": {},
     "output_type": "execute_result"
    }
   ],
   "source": [
    "a"
   ]
  },
  {
   "cell_type": "code",
   "execution_count": 14,
   "id": "ef59387c",
   "metadata": {},
   "outputs": [
    {
     "data": {
      "text/plain": [
       "<tf.Tensor: shape=(), dtype=int32, numpy=15>"
      ]
     },
     "execution_count": 14,
     "metadata": {},
     "output_type": "execute_result"
    }
   ],
   "source": [
    "tf.reduce_sum(a, axis=0)"
   ]
  },
  {
   "cell_type": "code",
   "execution_count": 15,
   "id": "a33b319a",
   "metadata": {},
   "outputs": [
    {
     "data": {
      "text/plain": [
       "<tf.Tensor: shape=(1,), dtype=int32, numpy=array([15])>"
      ]
     },
     "execution_count": 15,
     "metadata": {},
     "output_type": "execute_result"
    }
   ],
   "source": [
    "tf.reduce_sum(a, axis=0, keepdims=True)"
   ]
  },
  {
   "cell_type": "code",
   "execution_count": null,
   "id": "aece7dfe",
   "metadata": {},
   "outputs": [],
   "source": []
  },
  {
   "cell_type": "markdown",
   "id": "bc29aa87",
   "metadata": {},
   "source": [
    "#### 행렬과 관련된 연산\n",
    "- tf.matmul:내적\n",
    "- tf.linalg.inv:역행렬"
   ]
  },
  {
   "cell_type": "code",
   "execution_count": 16,
   "id": "1cd6df34",
   "metadata": {},
   "outputs": [
    {
     "data": {
      "text/plain": [
       "<tf.Tensor: shape=(2, 2), dtype=float32, numpy=\n",
       "array([[2., 2.],\n",
       "       [1., 1.]], dtype=float32)>"
      ]
     },
     "execution_count": 16,
     "metadata": {},
     "output_type": "execute_result"
    }
   ],
   "source": [
    "a = tf.constant([[2, 0], [0, 1]], dtype=tf.float32)\n",
    "b = tf.constant([[1, 1], [1, 1]], dtype=tf.float32)\n",
    "tf.matmul(a, b)"
   ]
  },
  {
   "cell_type": "code",
   "execution_count": 17,
   "id": "3ac307aa",
   "metadata": {},
   "outputs": [
    {
     "data": {
      "text/plain": [
       "<tf.Tensor: shape=(2, 2), dtype=float32, numpy=\n",
       "array([[0.5, 0. ],\n",
       "       [0. , 1. ]], dtype=float32)>"
      ]
     },
     "execution_count": 17,
     "metadata": {},
     "output_type": "execute_result"
    }
   ],
   "source": [
    "a = tf.constant([[2, 0], [0, 1]], dtype=tf.float32)\n",
    "tf.linalg.inv(a)"
   ]
  },
  {
   "cell_type": "markdown",
   "id": "9f60db3c",
   "metadata": {},
   "source": [
    "#### 크기 및 차원을 바꾸는 행렬\n",
    "이를 사용 할 때는 축을 잘 이해하고 사용해야한다.\n",
    "- tf.reshape:벡터 행렬의 크기 변환\n",
    "- tf.transpose:전치 연산\n",
    "- tf.expand_dims:지정한 축으로 차원을 추가 \n",
    "- tf.squeeze:벡터로 차원을 축소"
   ]
  },
  {
   "cell_type": "code",
   "execution_count": 21,
   "id": "cd545026",
   "metadata": {},
   "outputs": [
    {
     "name": "stdout",
     "output_type": "stream",
     "text": [
      "a     : tf.Tensor([0 1 2 3 4 5], shape=(6,), dtype=int32) \n",
      "\n",
      "a_2d  : tf.Tensor(\n",
      "[[0 1 2]\n",
      " [3 4 5]], shape=(2, 3), dtype=int32) \n",
      "\n",
      "a_2d_t: tf.Tensor(\n",
      "[[0 3]\n",
      " [1 4]\n",
      " [2 5]], shape=(3, 2), dtype=int32) \n",
      "\n",
      "a_3d  : tf.Tensor(\n",
      "[[[0 1 2]\n",
      "  [3 4 5]]], shape=(1, 2, 3), dtype=int32) \n",
      "\n",
      "a_4d  : tf.Tensor(\n",
      "[[[[0]\n",
      "   [1]\n",
      "   [2]]\n",
      "\n",
      "  [[3]\n",
      "   [4]\n",
      "   [5]]]], shape=(1, 2, 3, 1), dtype=int32) \n",
      "\n",
      "a_ld   : tf.Tensor(\n",
      "[[0 1 2]\n",
      " [3 4 5]], shape=(2, 3), dtype=int32) \n",
      "\n"
     ]
    }
   ],
   "source": [
    "a = tf.range(6, dtype=tf.int32)   # [0, 1, 2, 3, 4, 5]\n",
    "print(\"a     :\", a, \"\\n\")\n",
    "a_2d = tf.reshape(a, (2, 3))    #1차원 벡터는 2x3 크기의 2차원 행렬로 변환   \n",
    "print(\"a_2d  :\", a_2d, \"\\n\")\n",
    "a_2d_t = tf.transpose(a_2d)#2x3 크기의 2차원 행렬을 3x2 크기의 2차원 행렬로 변환\n",
    "print(\"a_2d_t:\", a_2d_t, \"\\n\")\n",
    "a_3d = tf.expand_dims(a_2d, 0)#2x3 크기의 2차원 행렬을 1x2x3 크기의 3차원 행렬로 변환\n",
    "print(\"a_3d  :\", a_3d, \"\\n\")\n",
    "a_4d = tf.expand_dims(a_3d, 3)#1x2x3 크기의 3차원 행렬을 1x2x3x1 크기의 4차원 행렬로 변환\n",
    "print(\"a_4d  :\", a_4d, \"\\n\")\n",
    "a_ld = tf.squeeze(a_4d)\n",
    "print(\"a_ld   :\", a_ld, \"\\n\")#1x2x3x1 크기의 4차원 행렬을 1차원 벡터로 변환"
   ]
  },
  {
   "cell_type": "markdown",
   "id": "b7548415",
   "metadata": {},
   "source": [
    "#### 텐서를 나누거나 두 개 이상의 텐서를 합치는 명령\n",
    "- tf.slice:특정 부분을 추출\n",
    "- tf.split:분할\n",
    "- tf.concat:합치기\n",
    "- tf.tile:복제-붙이기\n",
    "- tf.stack:합성\n",
    "- tf.unstack:분리"
   ]
  },
  {
   "cell_type": "code",
   "execution_count": 22,
   "id": "545d2440",
   "metadata": {},
   "outputs": [
    {
     "data": {
      "text/plain": [
       "<tf.Tensor: shape=(3, 4), dtype=int32, numpy=\n",
       "array([[ 0,  1,  2,  3],\n",
       "       [ 4,  5,  6,  7],\n",
       "       [ 8,  9, 10, 11]])>"
      ]
     },
     "execution_count": 22,
     "metadata": {},
     "output_type": "execute_result"
    }
   ],
   "source": [
    "a = tf.reshape(tf.range(12), (3, 4))\n",
    "a"
   ]
  },
  {
   "cell_type": "code",
   "execution_count": 23,
   "id": "08d481e6",
   "metadata": {},
   "outputs": [
    {
     "data": {
      "text/plain": [
       "<tf.Tensor: shape=(2, 3), dtype=int32, numpy=\n",
       "array([[1, 2, 3],\n",
       "       [5, 6, 7]])>"
      ]
     },
     "execution_count": 23,
     "metadata": {},
     "output_type": "execute_result"
    }
   ],
   "source": [
    "tf.slice(a, [0, 1], [2, 3]) #(0, 1)위치에서 (2개, 3개)만큼 뽑아낸다."
   ]
  },
  {
   "cell_type": "code",
   "execution_count": 24,
   "id": "9047acbf",
   "metadata": {},
   "outputs": [
    {
     "name": "stdout",
     "output_type": "stream",
     "text": [
      "tf.Tensor(\n",
      "[[0 1]\n",
      " [4 5]\n",
      " [8 9]], shape=(3, 2), dtype=int32)\n",
      "tf.Tensor(\n",
      "[[ 2  3]\n",
      " [ 6  7]\n",
      " [10 11]], shape=(3, 2), dtype=int32)\n"
     ]
    }
   ],
   "source": [
    "a1, a2 = tf.split(a, num_or_size_splits=2, axis=1) #가로축을 따라 2개로 분리\n",
    "print(a1)\n",
    "print(a2)"
   ]
  },
  {
   "cell_type": "code",
   "execution_count": 25,
   "id": "5c6e2f83",
   "metadata": {},
   "outputs": [
    {
     "data": {
      "text/plain": [
       "<tf.Tensor: shape=(3, 4), dtype=int32, numpy=\n",
       "array([[ 0,  1,  2,  3],\n",
       "       [ 4,  5,  6,  7],\n",
       "       [ 8,  9, 10, 11]])>"
      ]
     },
     "execution_count": 25,
     "metadata": {},
     "output_type": "execute_result"
    }
   ],
   "source": [
    "tf.concat([a1, a2],1) #가로축을 따라 a1,a2 합치기"
   ]
  },
  {
   "cell_type": "code",
   "execution_count": 26,
   "id": "a82e1d3d",
   "metadata": {},
   "outputs": [
    {
     "data": {
      "text/plain": [
       "<tf.Tensor: shape=(3, 6), dtype=int32, numpy=\n",
       "array([[0, 1, 0, 1, 0, 1],\n",
       "       [4, 5, 4, 5, 4, 5],\n",
       "       [8, 9, 8, 9, 8, 9]])>"
      ]
     },
     "execution_count": 26,
     "metadata": {},
     "output_type": "execute_result"
    }
   ],
   "source": [
    "tf.tile(a1,[1, 3]) #가로축을 따라 3개로 복사-붙이기"
   ]
  },
  {
   "cell_type": "code",
   "execution_count": 27,
   "id": "24fdc7bd",
   "metadata": {},
   "outputs": [
    {
     "data": {
      "text/plain": [
       "<tf.Tensor: shape=(2, 3, 2), dtype=int32, numpy=\n",
       "array([[[ 0,  1],\n",
       "        [ 4,  5],\n",
       "        [ 8,  9]],\n",
       "\n",
       "       [[ 2,  3],\n",
       "        [ 6,  7],\n",
       "        [10, 11]]])>"
      ]
     },
     "execution_count": 27,
     "metadata": {},
     "output_type": "execute_result"
    }
   ],
   "source": [
    "a3 = tf.stack([a1, a2]) # 3x2 행렬 a1, a2 를 추가적인 차원으로 붙여서 2x3x2 고차원 텐서 생성\n",
    "a3"
   ]
  },
  {
   "cell_type": "code",
   "execution_count": 28,
   "id": "79fdd4ff",
   "metadata": {},
   "outputs": [
    {
     "data": {
      "text/plain": [
       "[<tf.Tensor: shape=(2, 2), dtype=int32, numpy=\n",
       " array([[0, 1],\n",
       "        [2, 3]])>,\n",
       " <tf.Tensor: shape=(2, 2), dtype=int32, numpy=\n",
       " array([[4, 5],\n",
       "        [6, 7]])>,\n",
       " <tf.Tensor: shape=(2, 2), dtype=int32, numpy=\n",
       " array([[ 8,  9],\n",
       "        [10, 11]])>]"
      ]
     },
     "execution_count": 28,
     "metadata": {},
     "output_type": "execute_result"
    }
   ],
   "source": [
    "tf.unstack(a3, axis=1) # 2x3x2 고차원 텐서를 0차원으로 풀어서 3개의 2x2 행렬 생성"
   ]
  },
  {
   "cell_type": "markdown",
   "id": "2020beac",
   "metadata": {},
   "source": [
    "---------------------------"
   ]
  },
  {
   "cell_type": "code",
   "execution_count": 29,
   "id": "12391742",
   "metadata": {},
   "outputs": [
    {
     "ename": "InvalidArgumentError",
     "evalue": "In[0] and In[1] has different ndims: [2,3] vs. [3] [Op:MatMul]",
     "output_type": "error",
     "traceback": [
      "\u001b[1;31m---------------------------------------------------------------------------\u001b[0m",
      "\u001b[1;31mInvalidArgumentError\u001b[0m                      Traceback (most recent call last)",
      "Cell \u001b[1;32mIn[29], line 4\u001b[0m\n\u001b[0;32m      1\u001b[0m a \u001b[38;5;241m=\u001b[39m tf\u001b[38;5;241m.\u001b[39mconstant(((\u001b[38;5;241m1\u001b[39m, \u001b[38;5;241m2\u001b[39m, \u001b[38;5;241m3\u001b[39m), (\u001b[38;5;241m1\u001b[39m, \u001b[38;5;241m2\u001b[39m, \u001b[38;5;241m3\u001b[39m)))\n\u001b[0;32m      2\u001b[0m b \u001b[38;5;241m=\u001b[39m tf\u001b[38;5;241m.\u001b[39mconstant([\u001b[38;5;241m1\u001b[39m, \u001b[38;5;241m2\u001b[39m, \u001b[38;5;241m3\u001b[39m])\n\u001b[1;32m----> 4\u001b[0m \u001b[43mtf\u001b[49m\u001b[38;5;241;43m.\u001b[39;49m\u001b[43mmatmul\u001b[49m\u001b[43m(\u001b[49m\u001b[43ma\u001b[49m\u001b[43m,\u001b[49m\u001b[43m \u001b[49m\u001b[43mb\u001b[49m\u001b[43m)\u001b[49m\n",
      "File \u001b[1;32m~\\miniconda3\\envs\\ds_study\\lib\\site-packages\\tensorflow\\python\\util\\traceback_utils.py:153\u001b[0m, in \u001b[0;36mfilter_traceback.<locals>.error_handler\u001b[1;34m(*args, **kwargs)\u001b[0m\n\u001b[0;32m    151\u001b[0m \u001b[38;5;28;01mexcept\u001b[39;00m \u001b[38;5;167;01mException\u001b[39;00m \u001b[38;5;28;01mas\u001b[39;00m e:\n\u001b[0;32m    152\u001b[0m   filtered_tb \u001b[38;5;241m=\u001b[39m _process_traceback_frames(e\u001b[38;5;241m.\u001b[39m__traceback__)\n\u001b[1;32m--> 153\u001b[0m   \u001b[38;5;28;01mraise\u001b[39;00m e\u001b[38;5;241m.\u001b[39mwith_traceback(filtered_tb) \u001b[38;5;28;01mfrom\u001b[39;00m \u001b[38;5;28mNone\u001b[39m\n\u001b[0;32m    154\u001b[0m \u001b[38;5;28;01mfinally\u001b[39;00m:\n\u001b[0;32m    155\u001b[0m   \u001b[38;5;28;01mdel\u001b[39;00m filtered_tb\n",
      "File \u001b[1;32m~\\miniconda3\\envs\\ds_study\\lib\\site-packages\\tensorflow\\python\\framework\\ops.py:7107\u001b[0m, in \u001b[0;36mraise_from_not_ok_status\u001b[1;34m(e, name)\u001b[0m\n\u001b[0;32m   7105\u001b[0m \u001b[38;5;28;01mdef\u001b[39;00m \u001b[38;5;21mraise_from_not_ok_status\u001b[39m(e, name):\n\u001b[0;32m   7106\u001b[0m   e\u001b[38;5;241m.\u001b[39mmessage \u001b[38;5;241m+\u001b[39m\u001b[38;5;241m=\u001b[39m (\u001b[38;5;124m\"\u001b[39m\u001b[38;5;124m name: \u001b[39m\u001b[38;5;124m\"\u001b[39m \u001b[38;5;241m+\u001b[39m name \u001b[38;5;28;01mif\u001b[39;00m name \u001b[38;5;129;01mis\u001b[39;00m \u001b[38;5;129;01mnot\u001b[39;00m \u001b[38;5;28;01mNone\u001b[39;00m \u001b[38;5;28;01melse\u001b[39;00m \u001b[38;5;124m\"\u001b[39m\u001b[38;5;124m\"\u001b[39m)\n\u001b[1;32m-> 7107\u001b[0m   \u001b[38;5;28;01mraise\u001b[39;00m core\u001b[38;5;241m.\u001b[39m_status_to_exception(e) \u001b[38;5;28;01mfrom\u001b[39;00m \u001b[38;5;28mNone\u001b[39m\n",
      "\u001b[1;31mInvalidArgumentError\u001b[0m: In[0] and In[1] has different ndims: [2,3] vs. [3] [Op:MatMul]"
     ]
    }
   ],
   "source": [
    "a = tf.constant(((1, 2, 3), (1, 2, 3)))\n",
    "b = tf.constant([1, 2, 3])\n",
    "\n",
    "tf.matmul(a, b)"
   ]
  },
  {
   "cell_type": "code",
   "execution_count": 30,
   "id": "ac600d2d",
   "metadata": {},
   "outputs": [
    {
     "data": {
      "text/plain": [
       "<tf.Tensor: shape=(2, 1), dtype=int32, numpy=\n",
       "array([[14],\n",
       "       [14]])>"
      ]
     },
     "execution_count": 30,
     "metadata": {},
     "output_type": "execute_result"
    }
   ],
   "source": [
    "tf.matmul(a, tf.expand_dims(b, axis=1))"
   ]
  },
  {
   "cell_type": "code",
   "execution_count": null,
   "id": "83a51c6f",
   "metadata": {},
   "outputs": [],
   "source": []
  }
 ],
 "metadata": {
  "kernelspec": {
   "display_name": "python 3.8.15('ds_study':conda)",
   "language": "python",
   "name": "ds_study"
  },
  "language_info": {
   "codemirror_mode": {
    "name": "ipython",
    "version": 3
   },
   "file_extension": ".py",
   "mimetype": "text/x-python",
   "name": "python",
   "nbconvert_exporter": "python",
   "pygments_lexer": "ipython3",
   "version": "3.8.15"
  }
 },
 "nbformat": 4,
 "nbformat_minor": 5
}
