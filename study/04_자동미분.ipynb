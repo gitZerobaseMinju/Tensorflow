{
 "cells": [
  {
   "cell_type": "markdown",
   "id": "a8d24c26",
   "metadata": {},
   "source": [
    "# 자동 미분"
   ]
  },
  {
   "cell_type": "code",
   "execution_count": 1,
   "id": "6be2fd9c",
   "metadata": {},
   "outputs": [],
   "source": [
    "import tensorflow as tf\n",
    "import numpy as np"
   ]
  },
  {
   "cell_type": "markdown",
   "id": "15192f9e",
   "metadata": {},
   "source": [
    "텐서플로의 자동 미분\n",
    "\n",
    "tf.GridientTape\n",
    "\n",
    "tf.GridientTape는 컨텍스트(context) 안에서 실행된 모든 연산을 테이프(tape)에 기록\n",
    "그 다음 텐서플로는 후진 방식 자동 미분(reverse mode differentiation)을 사용해 테이프에 기록된 연산의 그래디언트를 계산"
   ]
  },
  {
   "cell_type": "markdown",
   "id": "9dded2b5",
   "metadata": {},
   "source": [
    "- Scalar 를 Scalar로 미분"
   ]
  },
  {
   "cell_type": "code",
   "execution_count": 2,
   "id": "f3f04677",
   "metadata": {},
   "outputs": [],
   "source": [
    "x = tf.Variable(3.0)\n",
    "\n",
    "with tf.GradientTape() as tape:\n",
    "    y = x**2"
   ]
  },
  {
   "cell_type": "code",
   "execution_count": 3,
   "id": "72471d68",
   "metadata": {},
   "outputs": [
    {
     "data": {
      "text/plain": [
       "<tf.Tensor: shape=(), dtype=float32, numpy=9.0>"
      ]
     },
     "execution_count": 3,
     "metadata": {},
     "output_type": "execute_result"
    }
   ],
   "source": [
    "y"
   ]
  },
  {
   "cell_type": "code",
   "execution_count": 4,
   "id": "92f094fa",
   "metadata": {},
   "outputs": [
    {
     "data": {
      "text/plain": [
       "6.0"
      ]
     },
     "execution_count": 4,
     "metadata": {},
     "output_type": "execute_result"
    }
   ],
   "source": [
    "# dy = 2x * dx\n",
    "dy_dx = tape.gradient(y,x)\n",
    "dy_dx.numpy()"
   ]
  },
  {
   "cell_type": "markdown",
   "id": "4d08cf5d",
   "metadata": {},
   "source": [
    "- Scalar 를 Vector로 미분"
   ]
  },
  {
   "cell_type": "code",
   "execution_count": 5,
   "id": "6a37d95b",
   "metadata": {},
   "outputs": [],
   "source": [
    "w = tf.Variable(tf.random.normal((3, 2)), name=\"w\")\n",
    "b = tf.Variable(tf.zeros(2, dtype=tf.float32), name='b')\n",
    "x = [[1., 2., 3.]]\n",
    "\n",
    "with tf.GradientTape(persistent=True) as tape:\n",
    "    y = x @ w + b\n",
    "    loss = tf.reduce_mean(y**2)"
   ]
  },
  {
   "cell_type": "code",
   "execution_count": 6,
   "id": "dc773f2c",
   "metadata": {},
   "outputs": [
    {
     "data": {
      "text/plain": [
       "[<tf.Tensor: shape=(3, 2), dtype=float32, numpy=\n",
       " array([[ -5.5325084,   2.8777187],\n",
       "        [-11.065017 ,   5.7554374],\n",
       "        [-16.597525 ,   8.633156 ]], dtype=float32)>,\n",
       " <tf.Tensor: shape=(2,), dtype=float32, numpy=array([-5.5325084,  2.8777187], dtype=float32)>]"
      ]
     },
     "execution_count": 6,
     "metadata": {},
     "output_type": "execute_result"
    }
   ],
   "source": [
    "[dl_dw, dl_db] = tape.gradient(loss, [w, b])\n",
    "\n",
    "[dl_dw, dl_db]"
   ]
  },
  {
   "cell_type": "code",
   "execution_count": 7,
   "id": "3a8a9a5a",
   "metadata": {},
   "outputs": [
    {
     "data": {
      "text/plain": [
       "<tf.Tensor: shape=(2,), dtype=float32, numpy=array([-5.5325084,  2.8777187], dtype=float32)>"
      ]
     },
     "execution_count": 7,
     "metadata": {},
     "output_type": "execute_result"
    }
   ],
   "source": [
    "my_vars = {\n",
    "    'w' : w,\n",
    "    'b' : b\n",
    "}\n",
    "\n",
    "grad = tape.gradient(loss, my_vars)\n",
    "grad['b']"
   ]
  },
  {
   "cell_type": "code",
   "execution_count": null,
   "id": "af0fa875",
   "metadata": {},
   "outputs": [],
   "source": []
  },
  {
   "cell_type": "markdown",
   "id": "6aeec6e8",
   "metadata": {},
   "source": [
    "- 자동 미분 컨트롤하기!\n",
    "    - tf.Variable만 기록\n",
    "    - A variable + tensor는 tensor를 반환\n",
    "    - trainable 조건으로 미분 기록을 제어"
   ]
  },
  {
   "cell_type": "code",
   "execution_count": 9,
   "id": "f0bd532f",
   "metadata": {},
   "outputs": [
    {
     "name": "stdout",
     "output_type": "stream",
     "text": [
      "tf.Tensor(6.0, shape=(), dtype=float32)\n",
      "None\n",
      "None\n",
      "None\n"
     ]
    }
   ],
   "source": [
    "# A trainable variable\n",
    "x0 = tf.Variable(3.0, name='x0')\n",
    "\n",
    "# Not trainable\n",
    "x1 = tf.Variable(3.0, name='x1', trainable=False)\n",
    "\n",
    "# Not a Variable: A variable + tensor returns a tensor.\n",
    "x2 = tf.Variable(2.0, name='x2') + 1.0\n",
    "\n",
    "# Not a variable\n",
    "x3 = tf.constant(3.0, name='x3')\n",
    "\n",
    "with tf.GradientTape() as tape:\n",
    "    y = (x0**2) + (x1**2) + (x2**2)\n",
    "    \n",
    "grad = tape.gradient(y, [x0, x1, x2, x3])\n",
    "\n",
    "for g in grad:\n",
    "    print(g)"
   ]
  },
  {
   "cell_type": "markdown",
   "id": "cd3f52a1",
   "metadata": {},
   "source": [
    "#### 기록되고 있는 variable 확인하기"
   ]
  },
  {
   "cell_type": "code",
   "execution_count": 10,
   "id": "6e8a1184",
   "metadata": {},
   "outputs": [
    {
     "data": {
      "text/plain": [
       "(<tf.Variable 'x0:0' shape=() dtype=float32, numpy=3.0>,)"
      ]
     },
     "execution_count": 10,
     "metadata": {},
     "output_type": "execute_result"
    }
   ],
   "source": [
    "tape.watched_variables()"
   ]
  },
  {
   "cell_type": "code",
   "execution_count": null,
   "id": "2e4c5b4f",
   "metadata": {},
   "outputs": [],
   "source": []
  }
 ],
 "metadata": {
  "kernelspec": {
   "display_name": "python 3.8.15('ds_study':conda)",
   "language": "python",
   "name": "ds_study"
  },
  "language_info": {
   "codemirror_mode": {
    "name": "ipython",
    "version": 3
   },
   "file_extension": ".py",
   "mimetype": "text/x-python",
   "name": "python",
   "nbconvert_exporter": "python",
   "pygments_lexer": "ipython3",
   "version": "3.8.15"
  }
 },
 "nbformat": 4,
 "nbformat_minor": 5
}
