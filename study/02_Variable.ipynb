{
 "cells": [
  {
   "cell_type": "code",
   "execution_count": 1,
   "id": "999ebc49",
   "metadata": {},
   "outputs": [],
   "source": [
    "import tensorflow as tf"
   ]
  },
  {
   "cell_type": "code",
   "execution_count": 2,
   "id": "cae983c8",
   "metadata": {},
   "outputs": [],
   "source": [
    "import numpy as np"
   ]
  },
  {
   "cell_type": "markdown",
   "id": "2a4beaa7",
   "metadata": {},
   "source": [
    "### Variable (변수)\n",
    "- 미지수, 가중치를 정의할 때 사용\n",
    "- 직접 사용할 일이 많지는 않음\n",
    "- 변수 정의는 변수 생성 + 초기화"
   ]
  },
  {
   "cell_type": "code",
   "execution_count": 3,
   "id": "577a6c8e",
   "metadata": {},
   "outputs": [
    {
     "name": "stdout",
     "output_type": "stream",
     "text": [
      "<tf.Variable 'Variable:0' shape=(2, 2) dtype=float32, numpy=\n",
      "array([[1., 2.],\n",
      "       [3., 4.]], dtype=float32)>\n",
      "<tf.Variable 'Variable:0' shape=(2, 2) dtype=int32, numpy=\n",
      "array([[1, 2],\n",
      "       [3, 4]])>\n",
      "<tf.Variable 'Variable:0' shape=(2, 2) dtype=int32, numpy=\n",
      "array([[1, 2],\n",
      "       [3, 4]])>\n"
     ]
    }
   ],
   "source": [
    "tensor = tf.constant([[1.0, 2.0], [3.0, 4.0]])\n",
    "arr = np.array([[1, 2], [3, 4]])\n",
    "li = [[1, 2],[3, 4]]\n",
    "\n",
    "te_var = tf.Variable(tensor)\n",
    "arr_var = tf.Variable(arr)\n",
    "li_var = tf.Variable(li)\n",
    "\n",
    "print(te_var)\n",
    "print(arr_var)\n",
    "print(li_var)"
   ]
  },
  {
   "cell_type": "markdown",
   "id": "cfb0355e",
   "metadata": {},
   "source": [
    "- Constant와 같이 기본 속성값이 들어있음"
   ]
  },
  {
   "cell_type": "code",
   "execution_count": 4,
   "id": "57bb534e",
   "metadata": {},
   "outputs": [
    {
     "name": "stdout",
     "output_type": "stream",
     "text": [
      "Shape:  (2, 2)\n",
      "Dtype:  <dtype: 'float32'>\n",
      "As NumPy:  <bound method BaseResourceVariable.numpy of <tf.Variable 'Variable:0' shape=(2, 2) dtype=float32, numpy=\n",
      "array([[1., 2.],\n",
      "       [3., 4.]], dtype=float32)>>\n"
     ]
    }
   ],
   "source": [
    "print(\"Shape: \", te_var.shape)\n",
    "print(\"Dtype: \", te_var.dtype)\n",
    "print(\"As NumPy: \", te_var.numpy)"
   ]
  },
  {
   "cell_type": "markdown",
   "id": "78732286",
   "metadata": {},
   "source": [
    "### 변수는 기존 텐서의 메모리를 재사용하여 텐서를 재할당 할 수 있다."
   ]
  },
  {
   "cell_type": "code",
   "execution_count": 5,
   "id": "c3f4a14f",
   "metadata": {},
   "outputs": [
    {
     "name": "stdout",
     "output_type": "stream",
     "text": [
      "First :  <tf.Variable 'Variable:0' shape=(2,) dtype=float32, numpy=array([2., 3.], dtype=float32)> \n",
      "\n",
      "Second :  <tf.Variable 'Variable:0' shape=(2,) dtype=float32, numpy=array([1., 2.], dtype=float32)> \n",
      "\n"
     ]
    }
   ],
   "source": [
    "a = tf.Variable([2.0, 3.0])\n",
    "print(\"First : \", a, \"\\n\")\n",
    "\n",
    "a.assign([1, 2])\n",
    "print(\"Second : \", a, \"\\n\")"
   ]
  },
  {
   "cell_type": "code",
   "execution_count": null,
   "id": "3ec679e2",
   "metadata": {},
   "outputs": [],
   "source": []
  }
 ],
 "metadata": {
  "kernelspec": {
   "display_name": "python 3.8.15('ds_study':conda)",
   "language": "python",
   "name": "ds_study"
  },
  "language_info": {
   "codemirror_mode": {
    "name": "ipython",
    "version": 3
   },
   "file_extension": ".py",
   "mimetype": "text/x-python",
   "name": "python",
   "nbconvert_exporter": "python",
   "pygments_lexer": "ipython3",
   "version": "3.8.15"
  }
 },
 "nbformat": 4,
 "nbformat_minor": 5
}
