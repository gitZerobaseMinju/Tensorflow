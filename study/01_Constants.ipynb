{
 "cells": [
  {
   "cell_type": "markdown",
   "id": "158a9115",
   "metadata": {},
   "source": [
    "# **Constants**"
   ]
  },
  {
   "cell_type": "code",
   "execution_count": 2,
   "id": "f25ddfaa",
   "metadata": {},
   "outputs": [],
   "source": [
    "import tensorflow as tf"
   ]
  },
  {
   "cell_type": "markdown",
   "id": "154087ea",
   "metadata": {},
   "source": [
    "## **Tensor**"
   ]
  },
  {
   "cell_type": "markdown",
   "id": "6fd6c97d",
   "metadata": {},
   "source": [
    "- Deeplearning framework는 기본적으로 Tensor를 다루는 도구다."
   ]
  },
  {
   "cell_type": "markdown",
   "id": "18ee983c",
   "metadata": {},
   "source": [
    "- Tensor를 다룰 때 가장 중요한 것!!\n",
    "    ### -> **SHAPE** !!!\n",
    "    (해보면 알겠지만, 제일 에러 많이 나는 이유, 제일 헷갈리는 것, 개발할 때 우리가 이론을 알아야 하는 이유, 함수들의 설정 값을 확인해야 하는 이유)"
   ]
  },
  {
   "cell_type": "markdown",
   "id": "26210c63",
   "metadata": {},
   "source": [
    "## **Tensor 생성**"
   ]
  },
  {
   "cell_type": "markdown",
   "id": "ddcd1355",
   "metadata": {},
   "source": [
    "우리가 생성하는 것은 tf.Tensor 데이터!"
   ]
  },
  {
   "cell_type": "markdown",
   "id": "94b9b223",
   "metadata": {},
   "source": [
    "#### **항상 체크해야 할 것!\n",
    "   - shape\n",
    "   - dtype(데이터 타입이 같아야 연산이 가능하다.)"
   ]
  },
  {
   "cell_type": "code",
   "execution_count": 3,
   "id": "6cf2b510",
   "metadata": {},
   "outputs": [],
   "source": [
    "li = [1, 2, 3]"
   ]
  },
  {
   "cell_type": "code",
   "execution_count": 4,
   "id": "78b94d34",
   "metadata": {},
   "outputs": [
    {
     "data": {
      "text/plain": [
       "list"
      ]
     },
     "execution_count": 4,
     "metadata": {},
     "output_type": "execute_result"
    }
   ],
   "source": [
    "type(li)"
   ]
  },
  {
   "cell_type": "markdown",
   "id": "c86fad6b",
   "metadata": {},
   "source": [
    "### Constant (상수)\n",
    "- tf.constant()\n",
    "    - list -> Tensor\n",
    "    - tuple -> Tensor\n",
    "    - Array -> Tensor"
   ]
  },
  {
   "cell_type": "code",
   "execution_count": 5,
   "id": "c40c7440",
   "metadata": {},
   "outputs": [
    {
     "data": {
      "text/plain": [
       "<tf.Tensor: shape=(3,), dtype=int32, numpy=array([1, 2, 3])>"
      ]
     },
     "execution_count": 5,
     "metadata": {},
     "output_type": "execute_result"
    }
   ],
   "source": [
    "li_ten = tf.constant([1, 2, 3])\n",
    "li_ten"
   ]
  },
  {
   "cell_type": "code",
   "execution_count": 6,
   "id": "c6fa3717",
   "metadata": {},
   "outputs": [
    {
     "data": {
      "text/plain": [
       "<tf.Tensor: shape=(3,), dtype=float32, numpy=array([1., 2., 3.], dtype=float32)>"
      ]
     },
     "execution_count": 6,
     "metadata": {},
     "output_type": "execute_result"
    }
   ],
   "source": [
    "li_ten_f = tf.constant([1., 2., 3.])\n",
    "li_ten_f"
   ]
  },
  {
   "cell_type": "code",
   "execution_count": 7,
   "id": "08f1ce24",
   "metadata": {},
   "outputs": [
    {
     "data": {
      "text/plain": [
       "<tf.Tensor: shape=(2, 3), dtype=float32, numpy=\n",
       "array([[1., 2., 3.],\n",
       "       [1., 2., 3.]], dtype=float32)>"
      ]
     },
     "execution_count": 7,
     "metadata": {},
     "output_type": "execute_result"
    }
   ],
   "source": [
    "tu_ten = tf.constant(((1, 2, 3), (1., 2., 3.)), name=\"sample\")\n",
    "tu_ten"
   ]
  },
  {
   "cell_type": "code",
   "execution_count": 8,
   "id": "12aa8e6b",
   "metadata": {},
   "outputs": [],
   "source": [
    "import numpy as np"
   ]
  },
  {
   "cell_type": "code",
   "execution_count": 9,
   "id": "842e4973",
   "metadata": {},
   "outputs": [
    {
     "data": {
      "text/plain": [
       "<tf.Tensor: shape=(3,), dtype=float64, numpy=array([1., 2., 3.])>"
      ]
     },
     "execution_count": 9,
     "metadata": {},
     "output_type": "execute_result"
    }
   ],
   "source": [
    "arr = np.array([1., 2., 3.])\n",
    "arr_ten = tf.constant(arr)\n",
    "arr_ten"
   ]
  },
  {
   "cell_type": "markdown",
   "id": "fd2fba3b",
   "metadata": {},
   "source": [
    "### **Numpy array 추출**"
   ]
  },
  {
   "cell_type": "code",
   "execution_count": 10,
   "id": "70354c70",
   "metadata": {},
   "outputs": [
    {
     "data": {
      "text/plain": [
       "(array([1., 2., 3.]), numpy.ndarray)"
      ]
     },
     "execution_count": 10,
     "metadata": {},
     "output_type": "execute_result"
    }
   ],
   "source": [
    "arr_ten.numpy(), type(arr_ten.numpy())"
   ]
  },
  {
   "cell_type": "code",
   "execution_count": 11,
   "id": "7e6994f0",
   "metadata": {},
   "outputs": [
    {
     "data": {
      "text/plain": [
       "(array([1, 2, 3]), numpy.ndarray)"
      ]
     },
     "execution_count": 11,
     "metadata": {},
     "output_type": "execute_result"
    }
   ],
   "source": [
    "li_ten.numpy(), type(li_ten.numpy())"
   ]
  },
  {
   "cell_type": "markdown",
   "id": "122d1099",
   "metadata": {},
   "source": [
    "### **shape, dtype 항상 체크!!**"
   ]
  },
  {
   "cell_type": "code",
   "execution_count": 12,
   "id": "2ba12fa3",
   "metadata": {},
   "outputs": [
    {
     "data": {
      "text/plain": [
       "(TensorShape([3]), TensorShape([2, 3]))"
      ]
     },
     "execution_count": 12,
     "metadata": {},
     "output_type": "execute_result"
    }
   ],
   "source": [
    "li_ten.shape, tu_ten.shape"
   ]
  },
  {
   "cell_type": "code",
   "execution_count": 13,
   "id": "50792a5b",
   "metadata": {},
   "outputs": [
    {
     "data": {
      "text/plain": [
       "(tf.float64, tf.int32)"
      ]
     },
     "execution_count": 13,
     "metadata": {},
     "output_type": "execute_result"
    }
   ],
   "source": [
    "arr_ten.dtype, li_ten.dtype"
   ]
  },
  {
   "cell_type": "markdown",
   "id": "50aaab24",
   "metadata": {},
   "source": [
    "### **데이터 타입 컨트롤하는 방법**\n",
    "- tf.cast"
   ]
  },
  {
   "cell_type": "code",
   "execution_count": 14,
   "id": "028cc3a5",
   "metadata": {},
   "outputs": [
    {
     "data": {
      "text/plain": [
       "<tf.Tensor: shape=(3,), dtype=float64, numpy=array([1., 2., 3.])>"
      ]
     },
     "execution_count": 14,
     "metadata": {},
     "output_type": "execute_result"
    }
   ],
   "source": [
    "tensor = tf.constant([1, 2, 3], dtype=tf.float64)\n",
    "tensor"
   ]
  },
  {
   "cell_type": "code",
   "execution_count": 15,
   "id": "71863d50",
   "metadata": {},
   "outputs": [
    {
     "data": {
      "text/plain": [
       "<tf.Tensor: shape=(3,), dtype=int16, numpy=array([1, 2, 3], dtype=int16)>"
      ]
     },
     "execution_count": 15,
     "metadata": {},
     "output_type": "execute_result"
    }
   ],
   "source": [
    "tf.cast(tensor, dtype=tf.int16)"
   ]
  },
  {
   "cell_type": "code",
   "execution_count": null,
   "id": "4261be57",
   "metadata": {},
   "outputs": [],
   "source": []
  },
  {
   "cell_type": "markdown",
   "id": "9fa9419c",
   "metadata": {},
   "source": [
    "#### **간단 퀴즈**\n",
    "#### 아래 코드를 에러 없이 실행 하시오."
   ]
  },
  {
   "cell_type": "code",
   "execution_count": 16,
   "id": "2349fcd3",
   "metadata": {},
   "outputs": [
    {
     "data": {
      "text/plain": [
       "(<tf.Tensor: shape=(3,), dtype=float64, numpy=array([1., 2., 3.])>,\n",
       " <tf.Tensor: shape=(3,), dtype=int32, numpy=array([1, 2, 3])>)"
      ]
     },
     "execution_count": 16,
     "metadata": {},
     "output_type": "execute_result"
    }
   ],
   "source": [
    "arr_ten, li_ten"
   ]
  },
  {
   "cell_type": "code",
   "execution_count": 17,
   "id": "0c643961",
   "metadata": {},
   "outputs": [
    {
     "ename": "InvalidArgumentError",
     "evalue": "cannot compute Mul as input #1(zero-based) was expected to be a double tensor but is a int32 tensor [Op:Mul]",
     "output_type": "error",
     "traceback": [
      "\u001b[1;31m---------------------------------------------------------------------------\u001b[0m",
      "\u001b[1;31mInvalidArgumentError\u001b[0m                      Traceback (most recent call last)",
      "Cell \u001b[1;32mIn[17], line 1\u001b[0m\n\u001b[1;32m----> 1\u001b[0m \u001b[43marr_ten\u001b[49m\u001b[43m \u001b[49m\u001b[38;5;241;43m*\u001b[39;49m\u001b[43m \u001b[49m\u001b[43mli_ten\u001b[49m\n",
      "File \u001b[1;32m~\\miniconda3\\envs\\ds_study\\lib\\site-packages\\tensorflow\\python\\util\\traceback_utils.py:153\u001b[0m, in \u001b[0;36mfilter_traceback.<locals>.error_handler\u001b[1;34m(*args, **kwargs)\u001b[0m\n\u001b[0;32m    151\u001b[0m \u001b[38;5;28;01mexcept\u001b[39;00m \u001b[38;5;167;01mException\u001b[39;00m \u001b[38;5;28;01mas\u001b[39;00m e:\n\u001b[0;32m    152\u001b[0m   filtered_tb \u001b[38;5;241m=\u001b[39m _process_traceback_frames(e\u001b[38;5;241m.\u001b[39m__traceback__)\n\u001b[1;32m--> 153\u001b[0m   \u001b[38;5;28;01mraise\u001b[39;00m e\u001b[38;5;241m.\u001b[39mwith_traceback(filtered_tb) \u001b[38;5;28;01mfrom\u001b[39;00m \u001b[38;5;28mNone\u001b[39m\n\u001b[0;32m    154\u001b[0m \u001b[38;5;28;01mfinally\u001b[39;00m:\n\u001b[0;32m    155\u001b[0m   \u001b[38;5;28;01mdel\u001b[39;00m filtered_tb\n",
      "File \u001b[1;32m~\\miniconda3\\envs\\ds_study\\lib\\site-packages\\tensorflow\\python\\framework\\ops.py:7107\u001b[0m, in \u001b[0;36mraise_from_not_ok_status\u001b[1;34m(e, name)\u001b[0m\n\u001b[0;32m   7105\u001b[0m \u001b[38;5;28;01mdef\u001b[39;00m \u001b[38;5;21mraise_from_not_ok_status\u001b[39m(e, name):\n\u001b[0;32m   7106\u001b[0m   e\u001b[38;5;241m.\u001b[39mmessage \u001b[38;5;241m+\u001b[39m\u001b[38;5;241m=\u001b[39m (\u001b[38;5;124m\"\u001b[39m\u001b[38;5;124m name: \u001b[39m\u001b[38;5;124m\"\u001b[39m \u001b[38;5;241m+\u001b[39m name \u001b[38;5;28;01mif\u001b[39;00m name \u001b[38;5;129;01mis\u001b[39;00m \u001b[38;5;129;01mnot\u001b[39;00m \u001b[38;5;28;01mNone\u001b[39;00m \u001b[38;5;28;01melse\u001b[39;00m \u001b[38;5;124m\"\u001b[39m\u001b[38;5;124m\"\u001b[39m)\n\u001b[1;32m-> 7107\u001b[0m   \u001b[38;5;28;01mraise\u001b[39;00m core\u001b[38;5;241m.\u001b[39m_status_to_exception(e) \u001b[38;5;28;01mfrom\u001b[39;00m \u001b[38;5;28mNone\u001b[39m\n",
      "\u001b[1;31mInvalidArgumentError\u001b[0m: cannot compute Mul as input #1(zero-based) was expected to be a double tensor but is a int32 tensor [Op:Mul]"
     ]
    }
   ],
   "source": [
    "arr_ten * li_ten"
   ]
  },
  {
   "cell_type": "code",
   "execution_count": 18,
   "id": "47321e38",
   "metadata": {},
   "outputs": [
    {
     "data": {
      "text/plain": [
       "<tf.Tensor: shape=(3,), dtype=float64, numpy=array([1., 4., 9.])>"
      ]
     },
     "execution_count": 18,
     "metadata": {},
     "output_type": "execute_result"
    }
   ],
   "source": [
    "arr_ten * tf.cast(li_ten, tf.float64)"
   ]
  },
  {
   "cell_type": "code",
   "execution_count": null,
   "id": "5ba8d748",
   "metadata": {},
   "outputs": [],
   "source": []
  },
  {
   "cell_type": "markdown",
   "id": "d45c97d0",
   "metadata": {},
   "source": [
    "### **특정 값의 Tensor 생성**\n",
    "- tf.ones\n",
    "- tf.zeros\n",
    "- tf.range"
   ]
  },
  {
   "cell_type": "code",
   "execution_count": 19,
   "id": "0c56f566",
   "metadata": {},
   "outputs": [
    {
     "data": {
      "text/plain": [
       "<tf.Tensor: shape=(1,), dtype=float32, numpy=array([1.], dtype=float32)>"
      ]
     },
     "execution_count": 19,
     "metadata": {},
     "output_type": "execute_result"
    }
   ],
   "source": [
    "tf.ones(1)"
   ]
  },
  {
   "cell_type": "code",
   "execution_count": 20,
   "id": "5b7379ef",
   "metadata": {},
   "outputs": [
    {
     "data": {
      "text/plain": [
       "<tf.Tensor: shape=(2, 5), dtype=int32, numpy=\n",
       "array([[0, 0, 0, 0, 0],\n",
       "       [0, 0, 0, 0, 0]])>"
      ]
     },
     "execution_count": 20,
     "metadata": {},
     "output_type": "execute_result"
    }
   ],
   "source": [
    "tf.zeros((2, 5), dtype=\"int32\")"
   ]
  },
  {
   "cell_type": "code",
   "execution_count": 21,
   "id": "7baeb342",
   "metadata": {},
   "outputs": [
    {
     "data": {
      "text/plain": [
       "<tf.Tensor: shape=(10,), dtype=int32, numpy=array([0, 1, 2, 3, 4, 5, 6, 7, 8, 9])>"
      ]
     },
     "execution_count": 21,
     "metadata": {},
     "output_type": "execute_result"
    }
   ],
   "source": [
    "tf.range(10)"
   ]
  },
  {
   "cell_type": "code",
   "execution_count": 22,
   "id": "8dd2825e",
   "metadata": {},
   "outputs": [
    {
     "data": {
      "text/plain": [
       "<tf.Tensor: shape=(10,), dtype=int32, numpy=array([ 1,  2,  3,  4,  5,  6,  7,  8,  9, 10])>"
      ]
     },
     "execution_count": 22,
     "metadata": {},
     "output_type": "execute_result"
    }
   ],
   "source": [
    "tf.range(1,11)"
   ]
  },
  {
   "cell_type": "code",
   "execution_count": null,
   "id": "5f3f29c4",
   "metadata": {},
   "outputs": [],
   "source": []
  },
  {
   "cell_type": "markdown",
   "id": "c591ee50",
   "metadata": {},
   "source": [
    "#### **간단 퀴즈**\n",
    "n을 입력하면 첫항이 1이고 공비가 2인 등비수열을 생성하는 함수를 만드시오."
   ]
  },
  {
   "cell_type": "code",
   "execution_count": 23,
   "id": "08f45576",
   "metadata": {},
   "outputs": [],
   "source": [
    "def geometric_sequence(n):\n",
    "    r = tf.range(n, dtype = tf.int32)\n",
    "    s = tf.ones(n, dtype=tf.int32) * 2\n",
    "    return s**r"
   ]
  },
  {
   "cell_type": "code",
   "execution_count": 24,
   "id": "15a51e3c",
   "metadata": {},
   "outputs": [
    {
     "name": "stdout",
     "output_type": "stream",
     "text": [
      "tf.Tensor([  1   2   4   8  16  32  64 128 256 512], shape=(10,), dtype=int32)\n"
     ]
    }
   ],
   "source": [
    "print(geometric_sequence(10))"
   ]
  },
  {
   "cell_type": "code",
   "execution_count": null,
   "id": "bafed0da",
   "metadata": {},
   "outputs": [],
   "source": []
  },
  {
   "cell_type": "markdown",
   "id": "7b7c8e94",
   "metadata": {},
   "source": [
    "#### Random Value(난수)\n",
    "- 무작위 값을 생성할 때 필요.\n",
    "- Noise를 재현 한다거나, test를 한다거나 할 때 많이 사용됨\n",
    "- 데이터 타입은 상수형태로 반환됨"
   ]
  },
  {
   "cell_type": "markdown",
   "id": "3894abf1",
   "metadata": {},
   "source": [
    "tf.ramdom에 구현되어 있음.\n",
    "- tf.random,normal\n",
    "    - Gaussian Normal Distribution\n",
    "- tf.random.uniform\n",
    "    - Uniform Distrubution\n",
    "    \n",
    "    \n",
    "    이보다 더 많다."
   ]
  },
  {
   "cell_type": "code",
   "execution_count": 25,
   "id": "855e81ac",
   "metadata": {},
   "outputs": [],
   "source": [
    "shape = (3, 3)"
   ]
  },
  {
   "cell_type": "code",
   "execution_count": 26,
   "id": "c975ef61",
   "metadata": {},
   "outputs": [
    {
     "data": {
      "text/plain": [
       "<tf.Tensor: shape=(3, 3), dtype=float32, numpy=\n",
       "array([[-0.8224277 ,  1.1661077 ,  0.16622333],\n",
       "       [-1.0426589 , -1.6640888 ,  0.63514453],\n",
       "       [ 0.92954195, -0.37368968, -0.43083578]], dtype=float32)>"
      ]
     },
     "execution_count": 26,
     "metadata": {},
     "output_type": "execute_result"
    }
   ],
   "source": [
    "tf.random.normal(shape)"
   ]
  },
  {
   "cell_type": "code",
   "execution_count": 27,
   "id": "ba10ab42",
   "metadata": {},
   "outputs": [
    {
     "data": {
      "text/plain": [
       "<tf.Tensor: shape=(3, 3), dtype=float32, numpy=\n",
       "array([[0.09347415, 0.37047803, 0.47771847],\n",
       "       [0.8057269 , 0.58445776, 0.2892877 ],\n",
       "       [0.72148144, 0.83781695, 0.0256362 ]], dtype=float32)>"
      ]
     },
     "execution_count": 27,
     "metadata": {},
     "output_type": "execute_result"
    }
   ],
   "source": [
    "tf.random.uniform(shape)"
   ]
  },
  {
   "cell_type": "code",
   "execution_count": null,
   "id": "b70dfa3b",
   "metadata": {},
   "outputs": [],
   "source": []
  },
  {
   "cell_type": "markdown",
   "id": "a01fea17",
   "metadata": {},
   "source": [
    "- Random seed 관리하기!!\n",
    "    - Random value로 보통 가중치를 초기화\n",
    "    - 이외에도 학습과정에서 Random value가 많이 사용됨\n",
    "    - 이를 관리 안 해주면, 자신이 했던 작업이 동일하게 복구 혹은 재현이 안됨!!\n",
    "- tf.random.set_seed({seed_number})\n",
    "=> 항상 Random seed를 고정해두고 개발한다!!\n",
    "(주의 할 점은 해당 개발물에 사용되는 난수가 모두 TensorFlow에서 생성된 것이 아닐 수 있다는 것이다.)"
   ]
  },
  {
   "cell_type": "code",
   "execution_count": 28,
   "id": "727c6b19",
   "metadata": {},
   "outputs": [],
   "source": [
    "seed =7777"
   ]
  },
  {
   "cell_type": "code",
   "execution_count": 29,
   "id": "34964bc3",
   "metadata": {},
   "outputs": [
    {
     "name": "stdout",
     "output_type": "stream",
     "text": [
      "tf.Tensor([0.959749], shape=(1,), dtype=float32)\n",
      "tf.Tensor([0.8677443], shape=(1,), dtype=float32)\n"
     ]
    }
   ],
   "source": [
    "tf.random.set_seed(seed)\n",
    "a = tf.random.uniform([1])\n",
    "b = tf.random.uniform([1])\n",
    "print(a, b, sep=\"\\n\")"
   ]
  },
  {
   "cell_type": "code",
   "execution_count": 30,
   "id": "8024b2fd",
   "metadata": {},
   "outputs": [
    {
     "name": "stdout",
     "output_type": "stream",
     "text": [
      "tf.Tensor([0.22878075], shape=(1,), dtype=float32)\n",
      "tf.Tensor([0.87772965], shape=(1,), dtype=float32)\n"
     ]
    }
   ],
   "source": [
    "a = tf.random.uniform([1])\n",
    "b = tf.random.uniform([1])\n",
    "print(a, b, sep=\"\\n\")"
   ]
  },
  {
   "cell_type": "code",
   "execution_count": 31,
   "id": "4a330e2a",
   "metadata": {},
   "outputs": [
    {
     "name": "stdout",
     "output_type": "stream",
     "text": [
      "tf.Tensor([0.959749], shape=(1,), dtype=float32)\n",
      "tf.Tensor([0.8677443], shape=(1,), dtype=float32)\n"
     ]
    }
   ],
   "source": [
    "tf.random.set_seed(seed)\n",
    "a = tf.random.uniform([1])\n",
    "b = tf.random.uniform([1])\n",
    "print(a, b, sep=\"\\n\")"
   ]
  },
  {
   "cell_type": "code",
   "execution_count": null,
   "id": "23de4604",
   "metadata": {},
   "outputs": [],
   "source": []
  }
 ],
 "metadata": {
  "kernelspec": {
   "display_name": "python 3.8.15('ds_study':conda)",
   "language": "python",
   "name": "ds_study"
  },
  "language_info": {
   "codemirror_mode": {
    "name": "ipython",
    "version": 3
   },
   "file_extension": ".py",
   "mimetype": "text/x-python",
   "name": "python",
   "nbconvert_exporter": "python",
   "pygments_lexer": "ipython3",
   "version": "3.8.15"
  }
 },
 "nbformat": 4,
 "nbformat_minor": 5
}
